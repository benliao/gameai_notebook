{
  "nbformat": 4,
  "nbformat_minor": 0,
  "metadata": {
    "colab": {
      "name": "dropout_layer.ipynb",
      "provenance": [],
      "authorship_tag": "ABX9TyMJFjS1BQUEsm/uebz8MSIW",
      "include_colab_link": true
    },
    "kernelspec": {
      "name": "python3",
      "display_name": "Python 3"
    },
    "language_info": {
      "name": "python"
    }
  },
  "cells": [
    {
      "cell_type": "markdown",
      "metadata": {
        "id": "view-in-github",
        "colab_type": "text"
      },
      "source": [
        "<a href=\"https://colab.research.google.com/github/benliao/gameai_notebook/blob/main/dropout_layer.ipynb\" target=\"_parent\"><img src=\"https://colab.research.google.com/assets/colab-badge.svg\" alt=\"Open In Colab\"/></a>"
      ]
    },
    {
      "cell_type": "markdown",
      "metadata": {
        "id": "M6R1FQD-c6DV"
      },
      "source": [
        "Dropout layer"
      ]
    },
    {
      "cell_type": "code",
      "metadata": {
        "id": "HHjyLdOVb4IN"
      },
      "source": [
        "import tensorflow as tf\n",
        "import numpy as np"
      ],
      "execution_count": 3,
      "outputs": []
    },
    {
      "cell_type": "code",
      "metadata": {
        "id": "6z9JCBY2b950"
      },
      "source": [
        "tf.random.set_seed(0)"
      ],
      "execution_count": 2,
      "outputs": []
    },
    {
      "cell_type": "code",
      "metadata": {
        "colab": {
          "base_uri": "https://localhost:8080/"
        },
        "id": "lJeOvnYOcCPM",
        "outputId": "e46b814b-8b13-4ee9-d953-f0490dd029a3"
      },
      "source": [
        "layer = tf.keras.layers.Dropout(.1, input_shape=(2,))\n",
        "data = np.arange(20).reshape(10,2).astype(np.float32)\n",
        "print(data)"
      ],
      "execution_count": 5,
      "outputs": [
        {
          "output_type": "stream",
          "text": [
            "[[ 0.  1.]\n",
            " [ 2.  3.]\n",
            " [ 4.  5.]\n",
            " [ 6.  7.]\n",
            " [ 8.  9.]\n",
            " [10. 11.]\n",
            " [12. 13.]\n",
            " [14. 15.]\n",
            " [16. 17.]\n",
            " [18. 19.]]\n"
          ],
          "name": "stdout"
        }
      ]
    },
    {
      "cell_type": "code",
      "metadata": {
        "colab": {
          "base_uri": "https://localhost:8080/"
        },
        "id": "HCwPzZv7ch75",
        "outputId": "c8d6d8fa-1767-498a-f58e-3486548fda33"
      },
      "source": [
        "outputs = layer(data, training=True)\n",
        "print(outputs)"
      ],
      "execution_count": 6,
      "outputs": [
        {
          "output_type": "stream",
          "text": [
            "tf.Tensor(\n",
            "[[ 0.         1.1111112]\n",
            " [ 2.2222223  3.3333335]\n",
            " [ 4.4444447  5.555556 ]\n",
            " [ 6.666667   7.777778 ]\n",
            " [ 8.888889  10.       ]\n",
            " [11.111112  12.222223 ]\n",
            " [13.333334  14.444445 ]\n",
            " [15.555556  16.666668 ]\n",
            " [17.777779  18.88889  ]\n",
            " [20.         0.       ]], shape=(10, 2), dtype=float32)\n"
          ],
          "name": "stdout"
        }
      ]
    }
  ]
}